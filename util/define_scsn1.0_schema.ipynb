{
 "cells": [
  {
   "cell_type": "code",
   "execution_count": 1,
   "metadata": {},
   "outputs": [],
   "source": [
    "import pickle\n",
    "import pandas as pd"
   ]
  },
  {
   "cell_type": "code",
   "execution_count": 2,
   "metadata": {},
   "outputs": [],
   "source": [
    "schema = \\\n",
    "    {\"Attributes\": \n",
    "         {\"year\":    {\"dtype\": int, \n",
    "                      \"format\": \"%4d\", \n",
    "                      \"null\": -999,\n",
    "                      \"width\": 4},\n",
    "          \"month\":   {\"dtype\": int, \n",
    "                      \"format\": \"%02d\",\n",
    "                      \"null\": -9,\n",
    "                      \"width\": 2},\n",
    "          \"day\":     {\"dtype\": int, \n",
    "                      \"format\": \"%02d\", \n",
    "                      \"null\": -9,\n",
    "                      \"width\": 2},\n",
    "          \"hour\":    {\"dtype\": int, \n",
    "                      \"format\": \"%02d\", \n",
    "                      \"null\": -9,\n",
    "                      \"width\": 2},\n",
    "          \"minute\":  {\"dtype\": int, \n",
    "                      \"format\": \"%02d\", \n",
    "                      \"null\": -9,\n",
    "                      \"width\": 2},\n",
    "          \"second\":  {\"dtype\": float, \n",
    "                      \"format\": \"%5.2f\", \n",
    "                      \"null\": -9.99,\n",
    "                      \"width\": 5},\n",
    "          \"lat_deg\": {\"dtype\": int, \n",
    "                      \"format\": \"%3d\", \n",
    "                      \"null\": -99,\n",
    "                      \"width\": 3},\n",
    "          \"lat_min\": {\"dtype\": float, \n",
    "                      \"format\": \"%5.2f\", \n",
    "                      \"null\": -9.99,\n",
    "                      \"width\": 5},\n",
    "          \"lon_deg\": {\"dtype\": int, \n",
    "                      \"format\": \"%4d\",\n",
    "                      \"null\": -999,\n",
    "                      \"width\": 4},\n",
    "          \"lon_min\": {\"dtype\": float, \n",
    "                      \"format\": \"%5.2f\",\n",
    "                      \"null\": -9.99,\n",
    "                      \"width\": 5},\n",
    "          \"qual\":    {\"dtype\": str,\n",
    "                      \"format\": \"%1s\", \n",
    "                      \"null\": \"-\",\n",
    "                      \"width\": 1},\n",
    "          \"mag\":     {\"dtype\": float, \n",
    "                      \"format\": \"%3.1f\",\n",
    "                      \"null\": 9.9,\n",
    "                      \"width\": 3},\n",
    "          \"depth\":   {\"dtype\": float,\n",
    "                      \"format\": \"%6.2f\", \n",
    "                      \"null\": -99.99,\n",
    "                      \"width\": 6},\n",
    "          \"nph\":     {\"dtype\": int,\n",
    "                      \"format\": \"%3d\",\n",
    "                      \"null\": -99,\n",
    "                      \"width\": 3},\n",
    "          \"rms\":     {\"dtype\": float, \n",
    "                      \"format\": \"%5.2f\",\n",
    "                      \"null\": -9.99,\n",
    "                      \"width\": 5},\n",
    "          \"eventid\": {\"dtype\": int, \n",
    "                      \"format\": \"%8d\",\n",
    "                      \"null\": 99999999,\n",
    "                      \"width\": 8}\n",
    "         },\n",
    "     \"Relations\": \n",
    "         {\"catalog\":['year', 'month', 'day', 'hour', 'minute', 'second', 'lat_deg', 'lat_min', 'lon_deg', 'lon_min', 'qual', 'mag', 'depth', 'nph', 'rms', 'eventid']},\n",
    "     \"comment\": \"#\"\n",
    "    }"
   ]
  },
  {
   "cell_type": "code",
   "execution_count": 3,
   "metadata": {},
   "outputs": [],
   "source": [
    "with open(\"../seismicity_catalog/data/schemas/scsn1.0.pkl\", \"wb\") as outf:\n",
    "    pickle.dump(schema, outf)"
   ]
  },
  {
   "cell_type": "code",
   "execution_count": null,
   "metadata": {},
   "outputs": [],
   "source": []
  }
 ],
 "metadata": {
  "kernelspec": {
   "display_name": "Python [conda env:deuteronomy]",
   "language": "python",
   "name": "conda-env-deuteronomy-py"
  },
  "language_info": {
   "codemirror_mode": {
    "name": "ipython",
    "version": 3
   },
   "file_extension": ".py",
   "mimetype": "text/x-python",
   "name": "python",
   "nbconvert_exporter": "python",
   "pygments_lexer": "ipython3",
   "version": "3.6.4"
  }
 },
 "nbformat": 4,
 "nbformat_minor": 2
}
