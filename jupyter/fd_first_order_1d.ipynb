{
 "cells": [
  {
   "cell_type": "code",
   "execution_count": null,
   "metadata": {},
   "outputs": [],
   "source": [
    "%matplotlib ipympl\n",
    "\n",
    "import matplotlib.pyplot as plt\n",
    "import numpy as np"
   ]
  },
  {
   "cell_type": "markdown",
   "metadata": {},
   "source": [
    "The scalar (acoustic) wave equation is\n",
    "\n",
    "\\begin{equation}\n",
    "    \\frac{\\partial^2\\psi}{\\partial t^2} = c^2\\nabla^2\\psi + s\n",
    "\\end{equation}\n",
    "\n",
    "where \n",
    "- $\\psi$ represents the pressure field \n",
    "- $c$ represents the propagation velocity\n",
    "- $\\nabla^2$ is the Laplacian operator\n",
    "\n",
    "In the 1D case, this simplifies to\n",
    "\n",
    "\\begin{equation}\n",
    "    \\frac{\\partial^2\\psi}{\\partial t^2} = c^2\\frac{\\partial^2\\psi}{\\partial x^2} + s\n",
    "\\end{equation}\n",
    "\n",
    "The first-order finite-difference operator for the second derivative with respect to coordinate $u$ is\n",
    "\n",
    "\\begin{equation}\n",
    "    \\frac{\\partial^2\\psi}{\\partial u^2} \\approx \\frac{\\psi(u+\\Delta u) - 2\\psi(u) + \\psi(u-\\Delta u)}{\\Delta u^2}\n",
    "\\end{equation}\n",
    "\n",
    "and substituting this in for $\\frac{\\partial^2\\psi}{\\partial t^2}$ and $\\frac{\\partial^2\\psi}{\\partial x^2}$ gives\n",
    "\n",
    "\\begin{equation}\n",
    "    \\frac{\\psi(x, t+\\Delta t) - 2\\psi(x, t) + \\psi(x, t-\\Delta t)}{\\Delta t^2} = c^2(x)\\frac{\\psi(x+\\Delta x, t) - 2\\psi(x, t) + \\psi(x-\\Delta x, t)}{\\Delta x^2} + s(x, t)\n",
    "\\end{equation}\n",
    "\n",
    "From this we obtain our extrapolation operator for the time dimension:\n",
    "\\begin{equation}\n",
    "    \\psi(x, t+\\Delta t) = \\Delta t^2\\left[c^2(x)\\frac{\\psi(x+\\Delta x, t) - 2\\psi(x, t) + \\psi(x-\\Delta x, t)}{\\Delta x^2} + s(x, t)\\right] + 2\\psi(x, t) - \\psi(x, t-\\Delta t)\n",
    "\\end{equation}\n",
    "\n",
    "With this, we can obtain all future values of $\\psi$ from the current values. We will use upper and lower indices for time and space, respectively, to discretize this equation on a grid with node spacing $\\Delta t$ and $\\Delta x$ in time and space.\n",
    "\n",
    "\\begin{equation}\n",
    "    \\psi(x + i\\Delta x, t + n\\Delta t) = \\psi^n_i\n",
    "\\end{equation}\n",
    "with $i, n \\in \\mathbb{N}$. i.e.\n",
    "\n",
    "\\begin{equation}\n",
    "    \\psi^{n+1}_i = c^2_i\\frac{\\Delta t^2}{\\Delta x^2}\\left(\\psi^n_{i+1} - 2\\psi^n_i + \\psi^n_{i-1}\\right) + 2\\psi^n_i - \\psi^{n-1}_i + \\Delta t^2s^n_i\n",
    "\\end{equation}\n",
    "\n",
    "For the source time function, we will use a Gaussian-derivative wavelet:\n",
    "\\begin{equation}\n",
    "    s(x, t) = -f_0(t-t_0)exp\\left(-\\left[4f_0\\left(t-t_0\\right)\\right]^2\\right)\\delta\\left(x-x_0\\right)\n",
    "\\end{equation}\n",
    "where\n",
    "- $t_0$ represents the zero crossing\n",
    "- $f_0$ represents the dominant frequency\n",
    "- $x_0$ represents the source location\n",
    "- $\\delta$ is the Dirac-delta function"
   ]
  },
  {
   "cell_type": "code",
   "execution_count": null,
   "metadata": {},
   "outputs": [],
   "source": [
    "# Parameterize the propagation domain\n",
    "c          = 100         # Wave speed [m/s]\n",
    "xmin, xmax = -1000, 1000 # Computational domain [m]\n",
    "tmin, tmax = 0, 20       # Computational domain [s]\n",
    "f0         = 20          # Dominant frequency   [1/s]\n",
    "t0         = 4 / f0      # Zero-crossing time   [s]\n",
    "s0         = 0           # Source location      [m]\n",
    "\n",
    "dx = c / f0 / 20 # Node spacing along x-axis    [m]\n",
    "dt   = dx / c    # Node spacing along t-axis    [s]\n",
    "\n",
    "xx = np.linspace(xmin, xmax, (xmax - xmin) / dx)\n",
    "tt = np.linspace(tmin, tmax, (tmax - tmin) / dt)\n",
    "nx   = xx.size       # Number of grid nodes along x-axis\n",
    "nt   = tt.size       # Number of grid nodes along t-axis\n",
    "\n",
    "psi     = np.zeros((nx, 3)) # Initialize the wavefield\n",
    "\n",
    "# Initialize source-time function\n",
    "ix_src = int((s0-xmin)//dx)     # X-index of source location\n",
    "ss = - f0 * (tt - t0) * np.exp(-((4 * f0 * (tt - t0)) ** 2))\n",
    "psi_src = ss / np.max(np.abs(ss))"
   ]
  },
  {
   "cell_type": "markdown",
   "metadata": {},
   "source": [
    "# Plot the source-time function"
   ]
  },
  {
   "cell_type": "code",
   "execution_count": null,
   "metadata": {},
   "outputs": [],
   "source": [
    "plt.close('all')\n",
    "fig = plt.figure(figsize=(8,4))\n",
    "fig.suptitle('Source-time function')\n",
    "ax = fig.add_subplot(1, 2, 1)\n",
    "ax.plot(tt, psi_src)\n",
    "ax.set_xlim(0, 3*t0)\n",
    "ax.set_xlabel('Time [s]')\n",
    "ax.set_ylabel('Normalized amplitude')\n",
    "ax = fig.add_subplot(1, 2, 2)\n",
    "SS = np.fft.fft(psi_src)\n",
    "freq = np.fft.fftfreq(psi_src.size, d=dt)\n",
    "SS = SS[freq >= 0]\n",
    "SS /= np.max(np.abs(SS))\n",
    "freq = freq[freq >= 0]\n",
    "ax.plot(freq, np.abs(SS))\n",
    "ax.set_xlim(np.min(freq), np.max(freq))\n",
    "ax.set_xlabel('Frequency [Hz]')\n",
    "ax.set_ylabel('Normalized amplitude')\n",
    "ax.yaxis.tick_right()\n",
    "ax.yaxis.set_label_position('right')"
   ]
  },
  {
   "cell_type": "markdown",
   "metadata": {},
   "source": [
    "\\begin{equation}\n",
    "    \\psi^{n+1}_i = c^2_i\\frac{\\Delta t^2}{\\Delta x^2}\\left(\\psi^n_{i+1} - 2\\psi^n_i + \\psi^n_{i-1}\\right) + 2\\psi^n_i - \\psi^{n-1}_i + \\Delta t^2s^n_i\n",
    "\\end{equation}"
   ]
  },
  {
   "cell_type": "code",
   "execution_count": null,
   "metadata": {},
   "outputs": [],
   "source": [
    "for it in range(nt):\n",
    "    psi[1:-1, 2] = c ** 2 * dt ** 2 / dx ** 2 * (psi[2:, 1] - 2 * psi[1:-1, 1] + psi[:-2, 1]) + 2 * psi[1:-1, 1] - psi[1:-1, 0] + psi_src[it] * dt ** 2\n",
    "    if it % 50 == 0:\n",
    "        fig = plt.figure()\n",
    "        ax = fig.add_subplot(1, 1, 1)\n",
    "        ax.plot(psi[:, 1])"
   ]
  },
  {
   "cell_type": "code",
   "execution_count": null,
   "metadata": {},
   "outputs": [],
   "source": []
  },
  {
   "cell_type": "code",
   "execution_count": null,
   "metadata": {},
   "outputs": [],
   "source": [
    "plt.close('all')"
   ]
  },
  {
   "cell_type": "code",
   "execution_count": 33,
   "metadata": {},
   "outputs": [
    {
     "name": "stderr",
     "output_type": "stream",
     "text": [
      "/home/malcolmw/local/anaconda3/envs/py37/lib/python3.7/site-packages/ipykernel_launcher.py:38: DeprecationWarning: object of type <class 'float'> cannot be safely interpreted as an integer.\n",
      "/home/malcolmw/local/anaconda3/envs/py37/lib/python3.7/site-packages/ipykernel_launcher.py:39: DeprecationWarning: object of type <class 'float'> cannot be safely interpreted as an integer.\n"
     ]
    }
   ],
   "source": [
    "%matplotlib ipympl\n",
    "\n",
    "import matplotlib.pyplot as plt\n",
    "import numpy as np\n",
    "import matplotlib.animation as animation\n",
    "\n",
    "wave_simulation_parameters = dict(\n",
    "    c          = 100,         # Wave speed [m/s]\n",
    "    xmin       = -1000,\n",
    "    xmax       = 1000, # Computational domain [m]\n",
    "    tmin       = 0,\n",
    "    tmax       = 20,       # Computational domain [s]\n",
    "    f0         = 20,          # Dominant frequency   [1/s]\n",
    "    s0         = 0           # Source location      [m]\n",
    ")\n",
    "\n",
    "class Wave(object):\n",
    "    def __init__(self, **kwargs):\n",
    "        '''\n",
    "        c          = 100         # Wave speed [m/s]\n",
    "        xmin, xmax = -1000, 1000 # Computational domain [m]\n",
    "        tmin, tmax = 0, 20       # Computational domain [s]\n",
    "        f0         = 20          # Dominant frequency   [1/s]\n",
    "        t0         = 4 / f0      # Zero-crossing time   [s]\n",
    "        s0         = 0           # Source location      [m]\n",
    "        '''\n",
    "        self._c    = kwargs['c']\n",
    "        self._xmin = kwargs['xmin']\n",
    "        self._xmax = kwargs['xmax']\n",
    "        self._tmin = kwargs['tmin']\n",
    "        self._tmax = kwargs['tmax']\n",
    "        self._f0   = kwargs['f0']\n",
    "        self._t0   = kwargs['f0'] / 4\n",
    "        self._s0   = kwargs['s0']\n",
    "        self._dx = self._c / self._f0 / 20 # Node spacing along x-axis    [m]\n",
    "        self._dt   = self._dx / self._c    # Node spacing along t-axis    [s]\n",
    "\n",
    "        self._xx = np.linspace(self._xmin, self._xmax, (self._xmax - self._xmin) / self._dx)\n",
    "        self._tt = np.linspace(self._tmin, self._tmax, (self._tmax - self._tmin) / self._dt)\n",
    "        self._nx   = self._xx.size       # Number of grid nodes along x-axis\n",
    "        self._nt   = self._tt.size       # Number of grid nodes along t-axis\n",
    "        self._it   = 0\n",
    "\n",
    "        self._psi     = np.zeros((self._nx, 3)) # Initialize the wavefield\n",
    "\n",
    "        # Initialize source-time function\n",
    "        self._ix_src = int((self._s0 - self._xmin) // self._dx)     # X-index of source location\n",
    "        ss = - self._f0 * (self._tt - self._t0) * np.exp(-((4 * self._f0 * (self._tt - self._t0)) ** 2))\n",
    "        self._src = ss / np.max(np.abs(ss))\n",
    "\n",
    "    def _update(self):\n",
    "        self._it += 1\n",
    "        psi     = self._psi\n",
    "        psi_src = self._src\n",
    "        c       = self._c\n",
    "        dx      = self._dx\n",
    "        dt      = self._dt\n",
    "        it      = self._it\n",
    "        psi[1:-1, 2] = c ** 2 * dt ** 2 / dx ** 2 * (psi[2:, 1] - 2 * psi[1:-1, 1] + psi[:-2, 1]) + 2 * psi[1:-1, 1] - psi[1:-1, 0] + psi_src[it] * dt ** 2\n",
    "        psi[:, 0] = psi[:, 1]\n",
    "        psi[:, 1] = psi[:, 2]\n",
    "        self._psi = psi\n",
    "    \n",
    "\n",
    "    def update(self):\n",
    "        d2px = np.zeros(self._nx)\n",
    "        for i in range(1, self._nx - 1):\n",
    "            d2px[i] = (self._psi[i + 1, 1] - 2 * self._psi[i, 1] + self._psi[i - 1, 1]) / self._dx ** 2\n",
    "        self._psi[1:-1, 2] = 2 * self._psi[1:-1, 1] - self._psi[1:-1, 0] + self._c ** 2 * self._dt ** 2 * d2px[1:-1]\n",
    "        self._psi[self._ix_src, 2] += self._src[self._it] / (self._dx) * self._dt ** 2\n",
    "        self._psi[:, 0], self._psi[:, 1] = self._psi[:, 1], self._psi[:, 2]\n",
    "\n",
    "    def plot_source_time_function(self):\n",
    "        fig = plt.figure(figsize=(8,4))\n",
    "        fig.suptitle('Source-time function')\n",
    "        ax = fig.add_subplot(1, 2, 1)\n",
    "        ax.plot(self._tt, self._src)\n",
    "        ax.set_xlim(0, 3*self._t0)\n",
    "        ax.set_xlabel('Time [s]')\n",
    "        ax.set_ylabel('Normalized amplitude')\n",
    "        ax = fig.add_subplot(1, 2, 2)\n",
    "        SS = np.fft.fft(self._src)\n",
    "        freq = np.fft.fftfreq(self._src.size, d=self._dt)\n",
    "        SS = SS[freq >= 0]\n",
    "        SS /= np.max(np.abs(SS))\n",
    "        freq = freq[freq >= 0]\n",
    "        ax.plot(freq, np.abs(SS))\n",
    "        ax.set_xlim(np.min(freq), np.max(freq))\n",
    "        ax.set_xlabel('Frequency [Hz]')\n",
    "        ax.set_ylabel('Normalized amplitude')\n",
    "        ax.yaxis.tick_right()\n",
    "        ax.yaxis.set_label_position('right')\n",
    "\n",
    "    def plot(self):\n",
    "        fig = plt.figure()\n",
    "        ax = fig.add_subplot(1, 1, 1)\n",
    "        ax.plot(self._xx, self._psi[:, 1])\n",
    "        ax.set_xlim(self._xmin, self._xmax)\n",
    "        ymax = np.max(np.abs(self._src))\n",
    "        ax.set_ylim(-ymax, ymax)\n",
    "        \n",
    "wf = Wave(**wave_simulation_parameters)"
   ]
  },
  {
   "cell_type": "code",
   "execution_count": null,
   "metadata": {},
   "outputs": [],
   "source": [
    "def update_psi(it, wf, ax, line):\n",
    "    wf.update()\n",
    "    line.set_ydata(wf._psi[:, 1])\n",
    "    ax.text(0.05, 0.95, str(it), ha='left', va='top', transform=ax.transAxes, bbox=dict(facecolor='w'))\n",
    "    return (ax, line)\n",
    "\n",
    "wf = Wave(**wave_simulation_parameters)\n",
    "\n",
    "fig = plt.figure()\n",
    "ax = fig.add_subplot(1, 1, 1)\n",
    "\n",
    "line, = ax.plot(wf._xx, wf._psi[:, 0], 'r-')\n",
    "ax.set_xlim(wf._xmin, wf._xmax)\n",
    "ax.set_ylim(-1, 1)\n",
    "\n",
    "line_ani = animation.FuncAnimation(fig, update_psi, wf._nt, fargs=(wf, ax, line),\n",
    "                                   interval=50, blit=True)"
   ]
  },
  {
   "cell_type": "code",
   "execution_count": 34,
   "metadata": {},
   "outputs": [
    {
     "name": "stderr",
     "output_type": "stream",
     "text": [
      "/home/malcolmw/local/anaconda3/envs/py37/lib/python3.7/site-packages/ipykernel_launcher.py:38: DeprecationWarning: object of type <class 'float'> cannot be safely interpreted as an integer.\n",
      "/home/malcolmw/local/anaconda3/envs/py37/lib/python3.7/site-packages/ipykernel_launcher.py:39: DeprecationWarning: object of type <class 'float'> cannot be safely interpreted as an integer.\n"
     ]
    }
   ],
   "source": [
    "wf = Wave(**wave_simulation_parameters)\n",
    "\n",
    "for i in range(int(wf._t0 // wf._dt)):\n",
    "    wf.update()"
   ]
  },
  {
   "cell_type": "code",
   "execution_count": 35,
   "metadata": {},
   "outputs": [
    {
     "data": {
      "application/vnd.jupyter.widget-view+json": {
       "model_id": "985039f4bc224bc3a6d60cbde1c8d065",
       "version_major": 2,
       "version_minor": 0
      },
      "text/plain": [
       "FigureCanvasNbAgg()"
      ]
     },
     "metadata": {},
     "output_type": "display_data"
    }
   ],
   "source": [
    "# wf._update()\n",
    "plt.close('all')\n",
    "wf.plot()"
   ]
  },
  {
   "cell_type": "code",
   "execution_count": null,
   "metadata": {},
   "outputs": [],
   "source": [
    "for i in range(10):\n",
    "    wf.update()\n",
    "line.set_ydata(wf.psi[:, 1])"
   ]
  },
  {
   "cell_type": "code",
   "execution_count": null,
   "metadata": {},
   "outputs": [],
   "source": [
    "def update_line(idx, data, line):\n",
    "    line.set_ydata(data[idx])\n",
    "    return line,\n",
    "\n",
    "k, w = 0.5, 1\n",
    "x = np.linspace(0, 100, 1000)\n",
    "t = np.linspace(0, 10, 100)\n",
    "xx, tt = np.meshgrid(x, t)\n",
    " \n",
    "data = np.sin(k*xx - w*tt)\n",
    "\n",
    "fig = plt.figure()\n",
    "ax = fig.add_subplot(1, 1, 1)\n",
    "\n",
    "line, = ax.plot(x, data[0], 'r-')\n",
    "ax.set_xlim(0, 100)\n",
    "ax.set_ylim(-1, 1)\n",
    "\n",
    "line_ani = animation.FuncAnimation(fig, update_line, 100, fargs=(data, line),\n",
    "                                   interval=50, blit=True)"
   ]
  },
  {
   "cell_type": "code",
   "execution_count": null,
   "metadata": {},
   "outputs": [],
   "source": [
    "l.set_ydata(data[10])"
   ]
  },
  {
   "cell_type": "code",
   "execution_count": null,
   "metadata": {},
   "outputs": [],
   "source": []
  }
 ],
 "metadata": {
  "kernelspec": {
   "display_name": "Python [conda env:py37]",
   "language": "python",
   "name": "conda-env-py37-py"
  },
  "language_info": {
   "codemirror_mode": {
    "name": "ipython",
    "version": 3
   },
   "file_extension": ".py",
   "mimetype": "text/x-python",
   "name": "python",
   "nbconvert_exporter": "python",
   "pygments_lexer": "ipython3",
   "version": "3.7.1"
  }
 },
 "nbformat": 4,
 "nbformat_minor": 2
}
