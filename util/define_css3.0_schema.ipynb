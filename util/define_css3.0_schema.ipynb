{
 "cells": [
  {
   "cell_type": "code",
   "execution_count": 1,
   "metadata": {},
   "outputs": [],
   "source": [
    "import os\n",
    "import pickle"
   ]
  },
  {
   "cell_type": "code",
   "execution_count": 10,
   "metadata": {},
   "outputs": [],
   "source": [
    "class Attribute(object):\n",
    "    def __init__(self, name, dtype, width, fmt, null):\n",
    "        self.name = name\n",
    "        self.dtype = dtype\n",
    "        self.width = width\n",
    "        self.fmt = fmt\n",
    "        self.null = null\n",
    "#         print(\"Attribute:\", self.name, self.dtype, self.width, self.fmt, self.null)\n",
    "\n",
    "class Relation(object):\n",
    "    def __init__(self, name, fields):\n",
    "        self.name = name\n",
    "        self.fields = fields\n",
    "#         print(\"Relation:\", self.name, self.fields)\n",
    "\n",
    "def parse_chunk(chunk):\n",
    "    if len(chunk.split()) == 0:\n",
    "        return(None)\n",
    "    if chunk.split()[0] == \"Attribute\":\n",
    "        return(parse_attribute(chunk))\n",
    "    elif chunk.split()[0] == \"Relation\":\n",
    "        return(parse_relation(chunk))\n",
    "\n",
    "def parse_attribute(chunk):\n",
    "    chunk = [line.strip() for line in chunk.strip().split(\"\\n\")]\n",
    "    name, dtype, width, fmt, null = None, None, None, None, None\n",
    "    for line in chunk:\n",
    "        if len(line.split()) == 0:\n",
    "            continue\n",
    "        if line.split()[0] == \"Attribute\":\n",
    "            name = line.split()[1]\n",
    "        elif line.split()[0] in (\"Real\", \"Integer\", \"String\", \"Time\", \"YearDay\") and dtype is None:\n",
    "            if line.split()[0] == \"Real\":\n",
    "                dtype = float\n",
    "            elif line.split()[0] == \"Integer\":\n",
    "                dtype = int\n",
    "            elif line.split()[0] == \"String\":\n",
    "                dtype = str\n",
    "            elif line.split()[0] == \"Time\":\n",
    "                dtype = float\n",
    "            elif line.split()[0] == \"YearDay\":\n",
    "                dtype = int\n",
    "            width = int(\"\".join(line.split()[1:]).strip(\"()\"))\n",
    "        elif line.split()[0] == \"Format\":\n",
    "            fmt = \"\".join(line.split()[1:]).strip(\"()\\\"\")\n",
    "        elif line.split()[0] == \"Null\":\n",
    "            null = \"\".join(line.split()[1:]).strip(\"()\\\"\")\n",
    "    return(Attribute(name, dtype, width, fmt, null))\n",
    "\n",
    "def parse_relation(chunk):\n",
    "    chunk = [line.strip() for line in chunk.strip().split(\"\\n\")]\n",
    "    name, fields = None, None\n",
    "    for line in chunk:\n",
    "        if len(line.split()) == 0:\n",
    "            continue\n",
    "        if line.split()[0] == \"Relation\":\n",
    "            name = line.split()[1]\n",
    "        elif line.split()[0] == \"Fields\":\n",
    "            fields = \" \".join(line.split()[1:]).strip(\"()\").split()\n",
    "    return(Relation(name, fields))\n",
    "\n",
    "def _parse_relation(chunk):\n",
    "    chunk = [line.strip() for line in chunk.strip().split(\"\\n\")]\n",
    "    name, fields = None, None\n",
    "    i = 0\n",
    "    while i < len(chunk):\n",
    "        line = chunk[i]\n",
    "        if len(line.split()) == 0:\n",
    "            continue\n",
    "        if line.split()[0] == \"Relation\":\n",
    "            name = line.split()[1]\n",
    "        elif line.split()[0] == \"Fields\":\n",
    "            fields = \" \".join(line.split()[1:]).strip(\"()\").split()\n",
    "            while line.strip()[-1] != \")\":\n",
    "                fields += \" \".join(line.split()[1:]).strip(\"()\").split()\n",
    "                i += 1\n",
    "                line = chunk[i]\n",
    "            print(fields)\n",
    "    return(Relation(name, fields))"
   ]
  },
  {
   "cell_type": "code",
   "execution_count": 11,
   "metadata": {},
   "outputs": [],
   "source": [
    "with open(\"/opt/antelope/5.8/data/schemas/css3.0\") as inf:\n",
    "    data = inf.read().split(\";\")\n",
    "chunks = [parse_chunk(chunk) for chunk in data]\n",
    "schema = {\"Attributes\": {obj.name: {\"dtype\": obj.dtype,\n",
    "                                    \"width\": obj.width,\n",
    "                                    \"format\": obj.fmt,\n",
    "                                    \"null\": obj.null}\n",
    "                         for obj in chunks\n",
    "                         if isinstance(obj, Attribute)},\n",
    "          \"Relations\": {obj.name: obj.fields for obj in chunks\n",
    "                                             if isinstance(obj, Relation)}\n",
    "          }\n",
    "for attr in schema[\"Attributes\"]:\n",
    "    attrib = schema[\"Attributes\"][attr]\n",
    "    attrib[\"null\"]"
   ]
  },
  {
   "cell_type": "code",
   "execution_count": 69,
   "metadata": {},
   "outputs": [
    {
     "name": "stdout",
     "output_type": "stream",
     "text": [
      "found 421 attributes...\n",
      "found 66 relations...\n",
      "pickling schema...\n"
     ]
    }
   ],
   "source": [
    "print(\"found\", len(schema[\"Attributes\"]), \"attributes...\")\n",
    "print(\"found\", len(schema[\"Relations\"]), \"relations...\")\n",
    "with open(\"/Users/malcolcw/Source/seismic-python/seispy/data/schemas/css3.0.pkl\", \"wb\") as outf:\n",
    "    print(\"pickling schema...\")\n",
    "    pickle.dump(schema, outf)"
   ]
  },
  {
   "cell_type": "markdown",
   "metadata": {},
   "source": [
    "# Extension tables"
   ]
  },
  {
   "cell_type": "code",
   "execution_count": 17,
   "metadata": {},
   "outputs": [],
   "source": [
    "ext = {\"Attributes\": {},\n",
    "       \"Relations\": {}}\n",
    "for file in sorted(os.listdir(\"/opt/antelope/5.8/contrib/data/schemas/css3.0.ext\")):\n",
    "    # This is a hack to avoid a couple troublesome files\n",
    "    if file in (\"tortrk\", \"dlsite\", \"staq330\"):\n",
    "        continue\n",
    "    with open(\"/opt/antelope/5.8/contrib/data/schemas/css3.0.ext/%s\" % file) as inf:\n",
    "        data = inf.read().split(\";\")\n",
    "    chunks = [parse_chunk(chunk) for chunk in data]\n",
    "    for obj in chunks:\n",
    "        if obj is None:\n",
    "            continue\n",
    "        # Raise an exception if Attribute is being re-defined\n",
    "        if isinstance(obj, Attribute):\n",
    "            if obj.name in ext[\"Attributes\"]:\n",
    "                if ext[\"Attributes\"][obj.name][\"dtype\"] != obj.dtype\\\n",
    "                        or ext[\"Attributes\"][obj.name][\"width\"] != obj.width\\\n",
    "                        or ext[\"Attributes\"][obj.name][\"format\"] != obj.fmt\\\n",
    "                        or ext[\"Attributes\"][obj.name][\"null\"] != obj.dtype(obj.null):\n",
    "                    raise(ValueError(obj.name, file))\n",
    "            ext[\"Attributes\"][obj.name] = {\"dtype\": obj.dtype,\n",
    "                                           \"width\": obj.width,\n",
    "                                           \"format\": obj.fmt,\n",
    "                                           \"null\": obj.dtype(obj.null) if obj.null is not None else None}\n",
    "        elif isinstance(obj, Relation):\n",
    "            # Raise an exception if a Relation is being re-defined\n",
    "            if obj.name in ext[\"Relations\"]:\n",
    "                if ext[\"Relations\"][obj.name] != obj.fields:\n",
    "                    raise(ValueError(obj.name))\n",
    "            ext[\"Relations\"][obj.name] = obj.fields"
   ]
  },
  {
   "cell_type": "markdown",
   "metadata": {},
   "source": [
    "### Set some ill-defined null values"
   ]
  },
  {
   "cell_type": "code",
   "execution_count": 56,
   "metadata": {},
   "outputs": [],
   "source": [
    "ext[\"Attributes\"][\"model\"][\"null\"] = \"-\"\n",
    "ext[\"Attributes\"][\"dlcalseq\"][\"null\"] = \"-\"\n",
    "ext[\"Attributes\"][\"dlcalseqt\"][\"null\"] = \"-\"\n",
    "# ext[\"Attributes\"][\"xlow\"][\"null\"] = -99999.999\n",
    "# ext[\"Attributes\"][\"xhigh\"][\"null\"] = -99999.999\n",
    "# ext[\"Attributes\"][\"ylow\"][\"null\"] = -99999.999\n",
    "# ext[\"Attributes\"][\"yhigh\"][\"null\"] = -99999.999\n",
    "# ext[\"Attributes\"][\"zlow\"][\"null\"] = -99999.999\n",
    "# ext[\"Attributes\"][\"zhigh\"][\"null\"] = -99999.999\n",
    "ext[\"Attributes\"][\"qgridtype\"][\"null\"] = \"-\"\n",
    "\n",
    "# schema[\"Attributes\"][\"coterr\"][\"null\"] =  -99.9\n",
    "# schema[\"Attributes\"][\"claerr\"][\"null\"] =  -99.9\n",
    "# schema[\"Attributes\"][\"cloerr\"][\"null\"] =  -99.9\n",
    "# schema[\"Attributes\"][\"cdperr\"][\"null\"] =  -99.9\n",
    "# schema[\"Attributes\"][\"durat\"][\"null\"] =   -99.9\n",
    "# schema[\"Attributes\"][\"nslpb\"][\"null\"] =  -99\n",
    "# schema[\"Attributes\"][\"nrlpb\"][\"null\"] =  -99\n",
    "# schema[\"Attributes\"][\"tmnlpb\"][\"null\"] =  -99.9\n",
    "# schema[\"Attributes\"][\"nsmw\"][\"null\"] =  -99\n",
    "# schema[\"Attributes\"][\"nrmw\"][\"null\"] =  -99\n",
    "# schema[\"Attributes\"][\"tmnmw\"][\"null\"] =  -99.9\n",
    "# schema[\"Attributes\"][\"dused\"][\"null\"] =  \"-\"\n",
    "# schema[\"Attributes\"][\"mrrerr\"][\"null\"] =  99.99\n",
    "# schema[\"Attributes\"][\"mtterr\"][\"null\"] =  99.99\n",
    "# schema[\"Attributes\"][\"mfferr\"][\"null\"] =  99.99\n",
    "# schema[\"Attributes\"][\"mrterr\"][\"null\"] =  99.99\n",
    "# schema[\"Attributes\"][\"mrferr\"][\"null\"] =  99.99\n",
    "# schema[\"Attributes\"][\"mtferr\"][\"null\"] =  99.99\n",
    "                     \n",
    "# ext[\"Attributes\"][\"newsnet\"] = {\"dtype\": str, \"format\": \"%8s\", \"null\": \"-\", \"width\": 8}\n",
    "schema[\"Attributes\"][\"mexpon\"][\"null\"] = -99\n",
    "schema[\"Attributes\"][\"bestdc\"][\"null\"] = -9.99\n",
    "schema[\"Attributes\"][\"naxplg\"][\"null\"] = 999.9\n",
    "schema[\"Attributes\"][\"naxazm\"][\"null\"] = 999.9"
   ]
  },
  {
   "cell_type": "code",
   "execution_count": 27,
   "metadata": {},
   "outputs": [
    {
     "name": "stdout",
     "output_type": "stream",
     "text": [
      "pickling schema...\n"
     ]
    }
   ],
   "source": [
    "with open(\"/Users/malcolcw/Source/seismic-python/seispy/data/schemas/css3.0.ext.pkl\", \"wb\") as outf:\n",
    "    print(\"pickling schema...\")\n",
    "    pickle.dump(ext, outf)"
   ]
  },
  {
   "cell_type": "code",
   "execution_count": 45,
   "metadata": {},
   "outputs": [],
   "source": [
    "import seispy"
   ]
  },
  {
   "cell_type": "code",
   "execution_count": 46,
   "metadata": {},
   "outputs": [],
   "source": [
    "schema = seispy.pandas.io.schema.get_schema(\"css3.0\")"
   ]
  },
  {
   "cell_type": "code",
   "execution_count": 49,
   "metadata": {},
   "outputs": [
    {
     "ename": "KeyError",
     "evalue": "'adoption'",
     "output_type": "error",
     "traceback": [
      "\u001b[0;31m---------------------------------------------------------------------------\u001b[0m",
      "\u001b[0;31mKeyError\u001b[0m                                  Traceback (most recent call last)",
      "\u001b[0;32m<ipython-input-49-04d52322981d>\u001b[0m in \u001b[0;36m<module>\u001b[0;34m()\u001b[0m\n\u001b[0;32m----> 1\u001b[0;31m \u001b[0mschema\u001b[0m\u001b[0;34m[\u001b[0m\u001b[0;34m\"Relations\"\u001b[0m\u001b[0;34m]\u001b[0m\u001b[0;34m[\u001b[0m\u001b[0;34m\"adoption\"\u001b[0m\u001b[0;34m]\u001b[0m\u001b[0;34m\u001b[0m\u001b[0m\n\u001b[0m",
      "\u001b[0;31mKeyError\u001b[0m: 'adoption'"
     ]
    }
   ],
   "source": [
    "schema[\"Relations\"][\"adoption\"]"
   ]
  },
  {
   "cell_type": "code",
   "execution_count": 51,
   "metadata": {},
   "outputs": [
    {
     "name": "stdout",
     "output_type": "stream",
     "text": [
      "schema[\"Attributes\"][\"orid\"][\"null\"] =  -1 %8ld\n",
      "schema[\"Attributes\"][\"mexpon\"][\"null\"] =  None %3ld\n",
      "schema[\"Attributes\"][\"mrr\"][\"null\"] =  99.99 %5.2f\n",
      "schema[\"Attributes\"][\"mtt\"][\"null\"] =  99.99 %5.2f\n",
      "schema[\"Attributes\"][\"mff\"][\"null\"] =  99.99 %5.2f\n",
      "schema[\"Attributes\"][\"mrt\"][\"null\"] =  99.99 %5.2f\n",
      "schema[\"Attributes\"][\"mrf\"][\"null\"] =  99.99 %5.2f\n",
      "schema[\"Attributes\"][\"mtf\"][\"null\"] =  99.99 %5.2f\n",
      "schema[\"Attributes\"][\"mrrerr\"][\"null\"] =  -9.99 %5.2f\n",
      "schema[\"Attributes\"][\"mtterr\"][\"null\"] =  -9.99 %5.2f\n",
      "schema[\"Attributes\"][\"mfferr\"][\"null\"] =  -9.99 %5.2f\n",
      "schema[\"Attributes\"][\"mrterr\"][\"null\"] =  -9.99 %5.2f\n",
      "schema[\"Attributes\"][\"mrferr\"][\"null\"] =  -9.99 %5.2f\n",
      "schema[\"Attributes\"][\"mtferr\"][\"null\"] =  -9.99 %5.2f\n",
      "schema[\"Attributes\"][\"taxval\"][\"null\"] =  99.99 %6.2f\n",
      "schema[\"Attributes\"][\"taxplg\"][\"null\"] =  999.9 %5.1f\n",
      "schema[\"Attributes\"][\"taxazm\"][\"null\"] =  999.9 %5.1f\n",
      "schema[\"Attributes\"][\"paxval\"][\"null\"] =  99.99 %5.2f\n",
      "schema[\"Attributes\"][\"paxplg\"][\"null\"] =  999.9 %5.1f\n",
      "schema[\"Attributes\"][\"paxazm\"][\"null\"] =  999.9 %5.1f\n",
      "schema[\"Attributes\"][\"naxval\"][\"null\"] =  99.99 %5.2f\n",
      "schema[\"Attributes\"][\"naxplg\"][\"null\"] =  AxisAzimuthandPlunge %5.1f\n",
      "schema[\"Attributes\"][\"naxazm\"][\"null\"] =  AxisAzimuthandPlunge %5.1f\n",
      "schema[\"Attributes\"][\"bestdc\"][\"null\"] =  None %5.2f\n",
      "schema[\"Attributes\"][\"str1\"][\"null\"] =  999.9 %5.1f\n",
      "schema[\"Attributes\"][\"dip1\"][\"null\"] =  999.9 %5.1f\n",
      "schema[\"Attributes\"][\"rake1\"][\"null\"] =  9999.9 %6.1f\n",
      "schema[\"Attributes\"][\"str2\"][\"null\"] =  999.9 %5.1f\n",
      "schema[\"Attributes\"][\"dip2\"][\"null\"] =  999.9 %5.1f\n",
      "schema[\"Attributes\"][\"rake2\"][\"null\"] =  9999.9 %6.1f\n",
      "schema[\"Attributes\"][\"dused\"][\"null\"] =  - %-10s\n",
      "schema[\"Attributes\"][\"auth\"][\"null\"] =  - %-15s\n",
      "schema[\"Attributes\"][\"commid\"][\"null\"] =  -1 %8ld\n",
      "schema[\"Attributes\"][\"lddate\"][\"null\"] =  -9999999999.99900 %17.5f\n"
     ]
    }
   ],
   "source": [
    "for field in schema[\"Relations\"][\"moment\"]:\n",
    "    print(\"schema[\\\"Attributes\\\"][\\\"\"+field+\"\\\"][\\\"null\\\"] = \", schema[\"Attributes\"][field][\"null\"], schema[\"Attributes\"][field][\"format\"])"
   ]
  },
  {
   "cell_type": "code",
   "execution_count": 72,
   "metadata": {},
   "outputs": [],
   "source": [
    "del(schema[\"Relations\"][\"wfedit\"])"
   ]
  },
  {
   "cell_type": "code",
   "execution_count": 73,
   "metadata": {},
   "outputs": [
    {
     "name": "stdout",
     "output_type": "stream",
     "text": [
      "found 421 attributes...\n",
      "found 64 relations...\n",
      "pickling schema...\n"
     ]
    }
   ],
   "source": [
    "print(\"found\", len(schema[\"Attributes\"]), \"attributes...\")\n",
    "print(\"found\", len(schema[\"Relations\"]), \"relations...\")\n",
    "with open(\"/Users/malcolcw/Source/seismic-python/seispy/data/schemas/css3.0.pkl\", \"wb\") as outf:\n",
    "    print(\"pickling schema...\")\n",
    "    pickle.dump(schema, outf)"
   ]
  },
  {
   "cell_type": "code",
   "execution_count": 74,
   "metadata": {},
   "outputs": [
    {
     "data": {
      "text/plain": [
       "['sta',\n",
       " 'chan',\n",
       " 'time',\n",
       " 'wfid',\n",
       " 'chanid',\n",
       " 'jdate',\n",
       " 'endtime',\n",
       " 'nsamp',\n",
       " 'samprate',\n",
       " 'calib',\n",
       " 'calper',\n",
       " 'instype',\n",
       " 'segtype',\n",
       " 'datatype',\n",
       " 'clip',\n",
       " 'dir',\n",
       " 'dfile',\n",
       " 'foff',\n",
       " 'commid',\n",
       " 'lddate']"
      ]
     },
     "execution_count": 74,
     "metadata": {},
     "output_type": "execute_result"
    }
   ],
   "source": [
    "schema[\"Relations\"][\"wfdisc\"]"
   ]
  },
  {
   "cell_type": "code",
   "execution_count": null,
   "metadata": {},
   "outputs": [],
   "source": []
  }
 ],
 "metadata": {
  "kernelspec": {
   "display_name": "Python [conda env:py36]",
   "language": "python",
   "name": "conda-env-py36-py"
  },
  "language_info": {
   "codemirror_mode": {
    "name": "ipython",
    "version": 3
   },
   "file_extension": ".py",
   "mimetype": "text/x-python",
   "name": "python",
   "nbconvert_exporter": "python",
   "pygments_lexer": "ipython3",
   "version": "3.6.5"
  }
 },
 "nbformat": 4,
 "nbformat_minor": 2
}
