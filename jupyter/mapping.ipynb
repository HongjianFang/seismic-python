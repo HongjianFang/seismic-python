{
 "cells": [
  {
   "cell_type": "code",
   "execution_count": 1,
   "metadata": {},
   "outputs": [],
   "source": [
    "%matplotlib ipympl\n",
    "import matplotlib.pyplot as plt\n",
    "import numpy as np\n",
    "import os\n",
    "import pandas as pd\n",
    "import scipy\n",
    "import seismic_pandas\n",
    "import seispy\n",
    "home = os.environ[\"HOME\"]"
   ]
  },
  {
   "cell_type": "code",
   "execution_count": 2,
   "metadata": {},
   "outputs": [],
   "source": [
    "with pd.HDFStore(os.path.join(home,\n",
    "                              \"Projects\",\n",
    "                              \"San-Jacinto\",\n",
    "                              \"proc\",\n",
    "                              \"v2.10\",\n",
    "                              \"NLLoc\",\n",
    "                              \"loc\",\n",
    "                              \"FANG16+CVMH-15.1\",\n",
    "                              \"San-Jacinto.h5\")) as store:\n",
    "    df_NLL = pd.concat([store[key] for key in store if not key == \"/END_origin\"], ignore_index=True)\n",
    "df = df_NLL"
   ]
  },
  {
   "cell_type": "code",
   "execution_count": 3,
   "metadata": {},
   "outputs": [
    {
     "name": "stderr",
     "output_type": "stream",
     "text": [
      "/Users/malcolcw/Local/anaconda3/envs/py36/lib/python3.6/site-packages/matplotlib/__init__.py:942: MatplotlibDeprecationWarning: nbagg.transparent is deprecated and ignored. Use figure.facecolor instead.\n",
      "  mplDeprecation)\n"
     ]
    },
    {
     "data": {
      "application/vnd.jupyter.widget-view+json": {
       "model_id": "74fc4071b7744ecf97437b26b0c823d1",
       "version_major": 2,
       "version_minor": 0
      },
      "text/html": [
       "<p>Failed to display Jupyter Widget of type <code>FigureCanvasNbAgg</code>.</p>\n",
       "<p>\n",
       "  If you're reading this message in the Jupyter Notebook or JupyterLab Notebook, it may mean\n",
       "  that the widgets JavaScript is still loading. If this message persists, it\n",
       "  likely means that the widgets JavaScript library is either not installed or\n",
       "  not enabled. See the <a href=\"https://ipywidgets.readthedocs.io/en/stable/user_install.html\">Jupyter\n",
       "  Widgets Documentation</a> for setup instructions.\n",
       "</p>\n",
       "<p>\n",
       "  If you're reading this message in another frontend (for example, a static\n",
       "  rendering on GitHub or <a href=\"https://nbviewer.jupyter.org/\">NBViewer</a>),\n",
       "  it may mean that your frontend doesn't currently support widgets.\n",
       "</p>\n"
      ],
      "text/plain": [
       "FigureCanvasNbAgg()"
      ]
     },
     "metadata": {},
     "output_type": "display_data"
    },
    {
     "data": {
      "text/plain": [
       "[<matplotlib.lines.Line2D at 0x1a1d3f0898>]"
      ]
     },
     "execution_count": 3,
     "metadata": {},
     "output_type": "execute_result"
    }
   ],
   "source": [
    "origin = seispy.coords.as_geographic([33.4991, -116.522, 0])\n",
    "length, width = 75, 15\n",
    "strike = -45\n",
    "plt.close(\"all\")\n",
    "fig = plt.figure()\n",
    "ax = fig.add_subplot(1, 1, 1)\n",
    "bm = seispy.mapping.Basemap()\n",
    "bm.scatter(df[\"lon\"], df[\"lat\"], \n",
    "           s=0.1, \n",
    "           c=df[\"depth\"], \n",
    "           cmap=plt.get_cmap(\"gnuplot_r\"), \n",
    "           zorder=2,\n",
    "           alpha=0.1)\n",
    "df[\"N\"] = df[\"E\"] = df[\"D\"] = np.nan\n",
    "df.loc[:, [\"N\", \"E\", \"D\"]] = seispy.coords.as_geographic(df[[\"lat\", \"lon\", \"depth\"]]\n",
    "                                                        ).to_cartesian(\n",
    "                                                        ).to_ned(origin=origin\n",
    "                                                        ).rotate(np.radians(strike))\n",
    "df = df[(df[\"N\"].abs() < length)\n",
    "       &(df[\"E\"].abs() < width)\n",
    "       &(df[\"errz\"] < 5)]\n",
    "bm.scatter(df[\"lon\"], df[\"lat\"], \n",
    "           s=0.1, \n",
    "           c=df[\"depth\"], \n",
    "           cmap=plt.get_cmap(\"gnuplot_r\"), \n",
    "           zorder=2,\n",
    "           alpha=0.1)\n",
    "\n",
    "rect_ned = seispy.coords.as_ned([[-length, -width, 0],\n",
    "                                 [-length,  width, 0],\n",
    "                                 [ length,  width, 0],\n",
    "                                 [ length, -width, 0],\n",
    "                                 [-length, -width, 0]],\n",
    "                                origin=origin\n",
    "                               )\n",
    "rect_geo = rect_ned.rotate(-np.radians(strike)).to_cartesian().to_geographic()\n",
    "bm.plot(rect_geo[:,1], rect_geo[:,0], \"w\")\n",
    "\n",
    "# line_ned = seispy.coords.as_ned([[-length, 0, 0],\n",
    "#                                  [length,  0, 0]],\n",
    "#                                 origin=seispy.coords.as_geographic([lat0, lon0, depth0])\n",
    "#                                 )\n",
    "# line_geo = line_ned.rotate(-np.radians(strike)).to_cartesian().to_geographic()\n",
    "# bm.plot(line_geo[:,1], line_geo[:,0], \"k\")\n",
    "\n",
    "# bm.scatter([lon0], [lat0], c=\"w\", zorder=3)"
   ]
  },
  {
   "cell_type": "code",
   "execution_count": null,
   "metadata": {},
   "outputs": [],
   "source": [
    "plt.close(\"all\")\n",
    "fig = plt.figure(figsize=(9, 2))\n",
    "ax = fig.add_subplot(1, 1, 1, aspect=1, facecolor=\"0.5\")\n",
    "ax.scatter(df[\"N\"], \n",
    "           df[\"D\"],\n",
    "           c=df[\"errz\"],\n",
    "           cmap=plt.get_cmap(\"gnuplot_r\"),\n",
    "           vmin=0,\n",
    "           vmax=4,\n",
    "           s=0.1,\n",
    "           alpha=0.2)\n",
    "ax.invert_yaxis()\n",
    "ax.set_xlim(-length, length)\n",
    "ax.set_ylim(25, 0)"
   ]
  },
  {
   "cell_type": "code",
   "execution_count": null,
   "metadata": {},
   "outputs": [],
   "source": [
    "plt.close(\"all\")\n",
    "\n",
    "fig = plt.figure()\n",
    "ax = fig.add_subplot(2, 1, 1, aspect=1)\n",
    "stat, x_edge, y_edge, binnum = scipy.stats.binned_statistic_2d(df[\"N\"], df[\"D\"], df[\"errz\"])\n",
    "qmesh = ax.pcolormesh(x_edge, y_edge, stat,\n",
    "                      vmin=0,\n",
    "                      vmax=5)\n",
    "fig.colorbar(qmesh, \n",
    "             ax=ax,\n",
    "             shrink=0.5)\n",
    "ax.invert_yaxis()\n",
    "\n",
    "ax = fig.add_subplot(2, 1, 2, aspect=1)\n",
    "stat, x_edge, y_edge, binnum = scipy.stats.binned_statistic_2d(df[\"N\"], df[\"D\"], df[\"errz\"], statistic=np.median)\n",
    "qmesh = ax.pcolormesh(x_edge,y_edge, stat,\n",
    "                      vmin=0,\n",
    "                      vmax=5)\n",
    "fig.colorbar(qmesh, \n",
    "             ax=ax,\n",
    "             shrink=0.5)\n",
    "ax.invert_yaxis()"
   ]
  },
  {
   "cell_type": "code",
   "execution_count": null,
   "metadata": {},
   "outputs": [],
   "source": []
  }
 ],
 "metadata": {
  "kernelspec": {
   "display_name": "Python [conda env:py36]",
   "language": "python",
   "name": "conda-env-py36-py"
  },
  "language_info": {
   "codemirror_mode": {
    "name": "ipython",
    "version": 3
   },
   "file_extension": ".py",
   "mimetype": "text/x-python",
   "name": "python",
   "nbconvert_exporter": "python",
   "pygments_lexer": "ipython3",
   "version": "3.6.5"
  }
 },
 "nbformat": 4,
 "nbformat_minor": 2
}
