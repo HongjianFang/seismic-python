{
 "cells": [
  {
   "cell_type": "code",
   "execution_count": 2,
   "metadata": {},
   "outputs": [],
   "source": [
    "%matplotlib ipympl\n",
    "\n",
    "import matplotlib.pyplot as plt\n",
    "import numpy as np\n",
    "import obspy"
   ]
  },
  {
   "cell_type": "code",
   "execution_count": 424,
   "metadata": {},
   "outputs": [
    {
     "data": {
      "text/plain": [
       "3 Trace(s) in Stream:\n",
       "YN.ALCY..EHE | 2013-03-11T00:00:00.004500Z - 2013-03-11T23:59:59.984500Z | 50.0 Hz, 4320000 samples\n",
       "YN.ALCY..EHN | 2013-03-11T00:00:00.004500Z - 2013-03-11T23:59:59.984500Z | 50.0 Hz, 4320000 samples\n",
       "YN.ALCY..EHZ | 2013-03-11T00:00:00.004500Z - 2013-03-11T23:59:59.984500Z | 50.0 Hz, 4320000 samples"
      ]
     },
     "execution_count": 424,
     "metadata": {},
     "output_type": "execute_result"
    }
   ],
   "source": [
    "st0 = obspy.read('/home/malcolmw/data/wfs/070/ALCY.2013.070.mseed')\n",
    "st0.filter('bandpass', freqmin=1, freqmax=20)"
   ]
  },
  {
   "cell_type": "code",
   "execution_count": 429,
   "metadata": {},
   "outputs": [
    {
     "data": {
      "application/vnd.jupyter.widget-view+json": {
       "model_id": "",
       "version_major": 2,
       "version_minor": 0
      },
      "text/plain": [
       "FigureCanvasNbAgg()"
      ]
     },
     "metadata": {},
     "output_type": "display_data"
    }
   ],
   "source": [
    "st = st0.slice(\n",
    "    starttime=obspy.UTCDateTime('2013-03-11T18:25:30'),\n",
    "    endtime=obspy.UTCDateTime('2013-03-11T18:26:00')\n",
    ")\n",
    "# st.normalize()\n",
    "st.plot(handle=True);"
   ]
  },
  {
   "cell_type": "code",
   "execution_count": 430,
   "metadata": {},
   "outputs": [],
   "source": [
    "sample_rate = st[0].stats.sampling_rate\n",
    "\n",
    "trz = st.select(channel='??Z*')[0].data\n",
    "trn = st.select(channel='??[N1]*')[0].data\n",
    "tre = st.select(channel='??[E2]*')[0].data\n",
    "\n",
    "window_length_in_seconds = 1\n",
    "nsamp = int(window_length_in_seconds * sample_rate)\n",
    "shape = (trz.size - nsamp + 1)\n",
    "xx = np.lib.stride_tricks.as_strided(trz, shape=(shape, nsamp), strides=(trz.itemsize, trz.itemsize))\n",
    "yy = np.lib.stride_tricks.as_strided(trn, shape=(shape, nsamp), strides=(trz.itemsize, trz.itemsize))\n",
    "zz = np.lib.stride_tricks.as_strided(tre, shape=(shape, nsamp), strides=(trz.itemsize, trz.itemsize))\n",
    "xyz = np.stack([xx, yy, zz], axis=1)\n",
    "eigh = [np.linalg.eigh(np.cov(window)) for window in xyz]\n",
    "eigval = np.stack([np.flip(eigh[idx][0]) for idx in range(len(eigh))])\n",
    "eigvec = np.stack([np.fliplr(eigh[idx][1]) for idx in range(len(eigh))])\n",
    "rect = 1 - (eigval[:, 1] + eigval[:, 2]) / (2 * eigval[:, 0])\n",
    "plan = 1 - (2 * eigval[:, 2]) / (eigval[:, 0] + eigval[:, 1])\n",
    "azim = np.arctan2((eigvec[:, 0, 1]), (eigvec[:, 0, 2]))\n",
    "inc = np.arccos(np.abs(eigvec[:, 0, 0]))"
   ]
  },
  {
   "cell_type": "code",
   "execution_count": 441,
   "metadata": {},
   "outputs": [
    {
     "data": {
      "application/vnd.jupyter.widget-view+json": {
       "model_id": "",
       "version_major": 2,
       "version_minor": 0
      },
      "text/plain": [
       "FigureCanvasNbAgg()"
      ]
     },
     "metadata": {},
     "output_type": "display_data"
    }
   ],
   "source": [
    "plt.close('all')\n",
    "\n",
    "axes = []\n",
    "fig = plt.figure(figsize=(5, 5))\n",
    "s_filt = rect * (1 - np.cos(inc))\n",
    "p_filt = rect * np.cos(inc)\n",
    "filt = np.diff(p_filt)\n",
    "ax = fig.add_subplot(4, 1, 1)\n",
    "axes.append(ax)\n",
    "# ax.plot(filt, 'k')\n",
    "ax.plot(rect, label='Rectilinearity')\n",
    "ax.plot(plan, label='Planarity')\n",
    "ax.plot(np.cos(inc), label='cos(incidence)')\n",
    "ax.set_ylim(0, 1)\n",
    "ax.legend(loc=7)\n",
    "\n",
    "row = 1\n",
    "for tr in (trz, trn, tre):\n",
    "    row += 1\n",
    "    ax = fig.add_subplot(4, 1, row)\n",
    "    axes.append(ax)\n",
    "    tr = tr[len(tr)-len(filt):]\n",
    "    tr = tr / np.max(np.abs(tr))\n",
    "    ax.plot(tr, 'r')\n",
    "    ax.plot(tr * filt, 'k')\n",
    "\n",
    "for ax in axes:\n",
    "    ax.set_xlim(0, len(filt))\n",
    "for ax in axes[1:]:\n",
    "    ax.set_ylim(-1, 1)\n",
    "for ax in axes[:-1]:\n",
    "    ax.set_xticks([])\n",
    "axes[-1].set_xticklabels(axes[-1].get_xticks() / sample_rate)\n",
    "\n",
    "plt.subplots_adjust(hspace=0)"
   ]
  },
  {
   "cell_type": "code",
   "execution_count": 448,
   "metadata": {},
   "outputs": [
    {
     "data": {
      "application/vnd.jupyter.widget-view+json": {
       "model_id": "817de1b245cf4b8495960208868857e6",
       "version_major": 2,
       "version_minor": 0
      },
      "text/plain": [
       "FigureCanvasNbAgg()"
      ]
     },
     "metadata": {},
     "output_type": "display_data"
    },
    {
     "data": {
      "text/plain": [
       "[<matplotlib.lines.Line2D at 0x7f15b0d91780>]"
      ]
     },
     "execution_count": 448,
     "metadata": {},
     "output_type": "execute_result"
    }
   ],
   "source": [
    "plt.close('all')\n",
    "\n",
    "fig = plt.figure()\n",
    "ax = fig.add_subplot(1, 1, 1)\n",
    "filt = rect * np.cos(inc)\n",
    "\n",
    "tr = trz[len(trz)-len(filt):]\n",
    "ax.plot(tr / np.max(np.abs(tr)), 'k')\n",
    "\n",
    "param = rect * np.cos(inc)\n",
    "ax.plot(param)\n",
    "ax.plot(np.diff(param))"
   ]
  },
  {
   "cell_type": "code",
   "execution_count": 436,
   "metadata": {},
   "outputs": [
    {
     "data": {
      "text/plain": [
       "\u001b[0;31mSignature:\u001b[0m \u001b[0mnp\u001b[0m\u001b[0;34m.\u001b[0m\u001b[0mdiff\u001b[0m\u001b[0;34m(\u001b[0m\u001b[0ma\u001b[0m\u001b[0;34m,\u001b[0m \u001b[0mn\u001b[0m\u001b[0;34m=\u001b[0m\u001b[0;36m1\u001b[0m\u001b[0;34m,\u001b[0m \u001b[0maxis\u001b[0m\u001b[0;34m=\u001b[0m\u001b[0;34m-\u001b[0m\u001b[0;36m1\u001b[0m\u001b[0;34m)\u001b[0m\u001b[0;34m\u001b[0m\u001b[0;34m\u001b[0m\u001b[0m\n",
       "\u001b[0;31mDocstring:\u001b[0m\n",
       "Calculate the n-th discrete difference along the given axis.\n",
       "\n",
       "The first difference is given by ``out[n] = a[n+1] - a[n]`` along\n",
       "the given axis, higher differences are calculated by using `diff`\n",
       "recursively.\n",
       "\n",
       "Parameters\n",
       "----------\n",
       "a : array_like\n",
       "    Input array\n",
       "n : int, optional\n",
       "    The number of times values are differenced. If zero, the input\n",
       "    is returned as-is.\n",
       "axis : int, optional\n",
       "    The axis along which the difference is taken, default is the\n",
       "    last axis.\n",
       "\n",
       "Returns\n",
       "-------\n",
       "diff : ndarray\n",
       "    The n-th differences. The shape of the output is the same as `a`\n",
       "    except along `axis` where the dimension is smaller by `n`. The\n",
       "    type of the output is the same as the type of the difference\n",
       "    between any two elements of `a`. This is the same as the type of\n",
       "    `a` in most cases. A notable exception is `datetime64`, which\n",
       "    results in a `timedelta64` output array.\n",
       "\n",
       "See Also\n",
       "--------\n",
       "gradient, ediff1d, cumsum\n",
       "\n",
       "Notes\n",
       "-----\n",
       "Type is preserved for boolean arrays, so the result will contain\n",
       "`False` when consecutive elements are the same and `True` when they\n",
       "differ.\n",
       "\n",
       "For unsigned integer arrays, the results will also be unsigned. This\n",
       "should not be surprising, as the result is consistent with\n",
       "calculating the difference directly:\n",
       "\n",
       ">>> u8_arr = np.array([1, 0], dtype=np.uint8)\n",
       ">>> np.diff(u8_arr)\n",
       "array([255], dtype=uint8)\n",
       ">>> u8_arr[1,...] - u8_arr[0,...]\n",
       "array(255, np.uint8)\n",
       "\n",
       "If this is not desirable, then the array should be cast to a larger\n",
       "integer type first:\n",
       "\n",
       ">>> i16_arr = u8_arr.astype(np.int16)\n",
       ">>> np.diff(i16_arr)\n",
       "array([-1], dtype=int16)\n",
       "\n",
       "Examples\n",
       "--------\n",
       ">>> x = np.array([1, 2, 4, 7, 0])\n",
       ">>> np.diff(x)\n",
       "array([ 1,  2,  3, -7])\n",
       ">>> np.diff(x, n=2)\n",
       "array([  1,   1, -10])\n",
       "\n",
       ">>> x = np.array([[1, 3, 6, 10], [0, 5, 6, 8]])\n",
       ">>> np.diff(x)\n",
       "array([[2, 3, 4],\n",
       "       [5, 1, 2]])\n",
       ">>> np.diff(x, axis=0)\n",
       "array([[-1,  2,  0, -2]])\n",
       "\n",
       ">>> x = np.arange('1066-10-13', '1066-10-16', dtype=np.datetime64)\n",
       ">>> np.diff(x)\n",
       "array([1, 1], dtype='timedelta64[D]')\n",
       "\u001b[0;31mFile:\u001b[0m      ~/local/anaconda3/envs/py37/lib/python3.7/site-packages/numpy/lib/function_base.py\n",
       "\u001b[0;31mType:\u001b[0m      function\n"
      ]
     },
     "metadata": {},
     "output_type": "display_data"
    }
   ],
   "source": [
    "np.diff?"
   ]
  },
  {
   "cell_type": "code",
   "execution_count": 421,
   "metadata": {},
   "outputs": [
    {
     "data": {
      "text/plain": [
       "(702, 3, 3)"
      ]
     },
     "execution_count": 421,
     "metadata": {},
     "output_type": "execute_result"
    }
   ],
   "source": [
    "eigvec.shape"
   ]
  },
  {
   "cell_type": "code",
   "execution_count": null,
   "metadata": {},
   "outputs": [],
   "source": []
  }
 ],
 "metadata": {
  "kernelspec": {
   "display_name": "Python [conda env:py37]",
   "language": "python",
   "name": "conda-env-py37-py"
  },
  "language_info": {
   "codemirror_mode": {
    "name": "ipython",
    "version": 3
   },
   "file_extension": ".py",
   "mimetype": "text/x-python",
   "name": "python",
   "nbconvert_exporter": "python",
   "pygments_lexer": "ipython3",
   "version": "3.7.1"
  }
 },
 "nbformat": 4,
 "nbformat_minor": 2
}
