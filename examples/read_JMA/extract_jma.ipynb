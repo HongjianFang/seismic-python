{
 "cells": [
  {
   "cell_type": "code",
   "execution_count": 1,
   "metadata": {},
   "outputs": [],
   "source": [
    "import matplotlib.pyplot as plt\n",
    "import numpy as np\n",
    "import pandas as pd\n",
    "import seispy"
   ]
  },
  {
   "cell_type": "code",
   "execution_count": 8,
   "metadata": {},
   "outputs": [
    {
     "name": "stdout",
     "output_type": "stream",
     "text": [
      "Variable   Type       Data/Info\n",
      "-------------------------------\n",
      "db         Catalog    <seispy.pandas.catalog.Ca<...>og object at 0x11f953fd0>\n",
      "np         module     <module 'numpy' from '/Us<...>kages/numpy/__init__.py'>\n",
      "pd         module     <module 'pandas' from '/U<...>ages/pandas/__init__.py'>\n",
      "plt        module     <module 'matplotlib.pyplo<...>es/matplotlib/pyplot.py'>\n",
      "seispy     module     <module 'seispy' from '/U<...>thon/seispy/__init__.py'>\n"
     ]
    }
   ],
   "source": [
    "whos"
   ]
  },
  {
   "cell_type": "code",
   "execution_count": 5,
   "metadata": {},
   "outputs": [],
   "source": [
    "db = seispy.pandas.catalog.Catalog(\n",
    "    './examples/read_NCEDC/ncsn.hypo00',\n",
    "    fmt='special',b\n",
    "    schema='hypoinverse2000'\n",
    ")"
   ]
  },
  {
   "cell_type": "code",
   "execution_count": 13,
   "metadata": {},
   "outputs": [],
   "source": [
    "db['arrival']['evid2'] = db['arrival'].year.astype(str)+db['arrival'].month.astype(str)+db['arrival'].day.astype(str)+db['arrival'].hour.astype(str)"
   ]
  },
  {
   "cell_type": "code",
   "execution_count": null,
   "metadata": {},
   "outputs": [],
   "source": [
    "import glob\n",
    "files = glob.glob('/Users/fangtbkak/study/VoroTomo_src/Japan_tomo/mkmodels/originaldata/d*.txt')\n",
    "files = np.sort(files)\n",
    "db = seispy.pandas.catalog.Catalog(\n",
    "    files[0],\n",
    "    fmt='special', \n",
    "    schema='japan_jma'\n",
    ")\n",
    "# nfile = len(files)\n",
    "# idx = 0\n",
    "# for ifile in files[1:]:\n",
    "#     idx +=1\n",
    "#     print(idx,'of all',nfile,ifile,end='\\r')\n",
    "#     db.append(\n",
    "#         ifile,\n",
    "#         fmt='special',\n",
    "#         schema='japan_jma'\n",
    "#     )\n",
    "db.save('./japan97to18_full.h5')"
   ]
  },
  {
   "cell_type": "code",
   "execution_count": null,
   "metadata": {},
   "outputs": [],
   "source": [
    "db['arrival']"
   ]
  },
  {
   "cell_type": "code",
   "execution_count": 8,
   "metadata": {},
   "outputs": [
    {
     "data": {
      "text/html": [
       "<div>\n",
       "<style scoped>\n",
       "    .dataframe tbody tr th:only-of-type {\n",
       "        vertical-align: middle;\n",
       "    }\n",
       "\n",
       "    .dataframe tbody tr th {\n",
       "        vertical-align: top;\n",
       "    }\n",
       "\n",
       "    .dataframe thead th {\n",
       "        text-align: right;\n",
       "    }\n",
       "</style>\n",
       "<table border=\"1\" class=\"dataframe\">\n",
       "  <thead>\n",
       "    <tr style=\"text-align: right;\">\n",
       "      <th></th>\n",
       "      <th>recordtype</th>\n",
       "      <th>stacode</th>\n",
       "      <th>stationno</th>\n",
       "      <th>blank</th>\n",
       "      <th>seismotype</th>\n",
       "      <th>date</th>\n",
       "      <th>phasename1</th>\n",
       "      <th>arrhour1</th>\n",
       "      <th>arrmin1</th>\n",
       "      <th>arrsec1</th>\n",
       "      <th>...</th>\n",
       "      <th>unitinit</th>\n",
       "      <th>duration</th>\n",
       "      <th>datayear</th>\n",
       "      <th>datamonth</th>\n",
       "      <th>dataflags1</th>\n",
       "      <th>dataflags2</th>\n",
       "      <th>dataflags3</th>\n",
       "      <th>dataflags4</th>\n",
       "      <th>dataweight</th>\n",
       "      <th>evid</th>\n",
       "    </tr>\n",
       "  </thead>\n",
       "  <tbody>\n",
       "    <tr>\n",
       "      <th>0</th>\n",
       "      <td>_</td>\n",
       "      <td>N.CKRH</td>\n",
       "      <td>2778</td>\n",
       "      <td>-</td>\n",
       "      <td>s</td>\n",
       "      <td>1</td>\n",
       "      <td>P</td>\n",
       "      <td>0</td>\n",
       "      <td>0</td>\n",
       "      <td>3060.0</td>\n",
       "      <td>...</td>\n",
       "      <td>-</td>\n",
       "      <td>-99</td>\n",
       "      <td>14</td>\n",
       "      <td>10</td>\n",
       "      <td>M</td>\n",
       "      <td>M</td>\n",
       "      <td>-</td>\n",
       "      <td>-</td>\n",
       "      <td>1.0</td>\n",
       "      <td>2014101001886</td>\n",
       "    </tr>\n",
       "    <tr>\n",
       "      <th>1</th>\n",
       "      <td>_</td>\n",
       "      <td>MIYOSH</td>\n",
       "      <td>5673</td>\n",
       "      <td>-</td>\n",
       "      <td>N</td>\n",
       "      <td>1</td>\n",
       "      <td>P</td>\n",
       "      <td>0</td>\n",
       "      <td>0</td>\n",
       "      <td>3101.0</td>\n",
       "      <td>...</td>\n",
       "      <td>-</td>\n",
       "      <td>-99</td>\n",
       "      <td>14</td>\n",
       "      <td>10</td>\n",
       "      <td>M</td>\n",
       "      <td>-</td>\n",
       "      <td>-</td>\n",
       "      <td>-</td>\n",
       "      <td>1.0</td>\n",
       "      <td>2014101001886</td>\n",
       "    </tr>\n",
       "    <tr>\n",
       "      <th>2</th>\n",
       "      <td>_</td>\n",
       "      <td>N.TY2H</td>\n",
       "      <td>2632</td>\n",
       "      <td>-</td>\n",
       "      <td>h</td>\n",
       "      <td>1</td>\n",
       "      <td>P</td>\n",
       "      <td>0</td>\n",
       "      <td>0</td>\n",
       "      <td>3069.0</td>\n",
       "      <td>...</td>\n",
       "      <td>-</td>\n",
       "      <td>-99</td>\n",
       "      <td>14</td>\n",
       "      <td>10</td>\n",
       "      <td>M</td>\n",
       "      <td>M</td>\n",
       "      <td>-</td>\n",
       "      <td>-</td>\n",
       "      <td>1.0</td>\n",
       "      <td>2014101001886</td>\n",
       "    </tr>\n",
       "    <tr>\n",
       "      <th>3</th>\n",
       "      <td>_</td>\n",
       "      <td>N.IWKH</td>\n",
       "      <td>2726</td>\n",
       "      <td>-</td>\n",
       "      <td>s</td>\n",
       "      <td>1</td>\n",
       "      <td>P</td>\n",
       "      <td>0</td>\n",
       "      <td>0</td>\n",
       "      <td>3110.0</td>\n",
       "      <td>...</td>\n",
       "      <td>-</td>\n",
       "      <td>-99</td>\n",
       "      <td>14</td>\n",
       "      <td>10</td>\n",
       "      <td>M</td>\n",
       "      <td>-</td>\n",
       "      <td>-</td>\n",
       "      <td>-</td>\n",
       "      <td>1.0</td>\n",
       "      <td>2014101001886</td>\n",
       "    </tr>\n",
       "    <tr>\n",
       "      <th>4</th>\n",
       "      <td>_</td>\n",
       "      <td>N.KMSH</td>\n",
       "      <td>2811</td>\n",
       "      <td>-</td>\n",
       "      <td>h</td>\n",
       "      <td>1</td>\n",
       "      <td>P</td>\n",
       "      <td>0</td>\n",
       "      <td>0</td>\n",
       "      <td>3138.0</td>\n",
       "      <td>...</td>\n",
       "      <td>-</td>\n",
       "      <td>-99</td>\n",
       "      <td>14</td>\n",
       "      <td>10</td>\n",
       "      <td>M</td>\n",
       "      <td>-</td>\n",
       "      <td>-</td>\n",
       "      <td>-</td>\n",
       "      <td>1.0</td>\n",
       "      <td>2014101001886</td>\n",
       "    </tr>\n",
       "  </tbody>\n",
       "</table>\n",
       "<p>5 rows × 39 columns</p>\n",
       "</div>"
      ],
      "text/plain": [
       "  recordtype stacode  stationno blank seismotype  date phasename1  arrhour1  \\\n",
       "0          _  N.CKRH       2778     -          s     1          P         0   \n",
       "1          _  MIYOSH       5673     -          N     1          P         0   \n",
       "2          _  N.TY2H       2632     -          h     1          P         0   \n",
       "3          _  N.IWKH       2726     -          s     1          P         0   \n",
       "4          _  N.KMSH       2811     -          h     1          P         0   \n",
       "\n",
       "   arrmin1  arrsec1  ... unitinit  duration  datayear  datamonth  dataflags1  \\\n",
       "0        0   3060.0  ...        -       -99        14         10           M   \n",
       "1        0   3101.0  ...        -       -99        14         10           M   \n",
       "2        0   3069.0  ...        -       -99        14         10           M   \n",
       "3        0   3110.0  ...        -       -99        14         10           M   \n",
       "4        0   3138.0  ...        -       -99        14         10           M   \n",
       "\n",
       "   dataflags2  dataflags3  dataflags4  dataweight           evid  \n",
       "0           M           -           -         1.0  2014101001886  \n",
       "1           -           -           -         1.0  2014101001886  \n",
       "2           M           -           -         1.0  2014101001886  \n",
       "3           -           -           -         1.0  2014101001886  \n",
       "4           -           -           -         1.0  2014101001886  \n",
       "\n",
       "[5 rows x 39 columns]"
      ]
     },
     "execution_count": 8,
     "metadata": {},
     "output_type": "execute_result"
    }
   ],
   "source": [
    "origin = db['arrival']\n",
    "origin.head()"
   ]
  },
  {
   "cell_type": "code",
   "execution_count": 4,
   "metadata": {},
   "outputs": [],
   "source": [
    "db.save('./Japan97to18_full.h5')"
   ]
  },
  {
   "cell_type": "code",
   "execution_count": 3,
   "metadata": {},
   "outputs": [
    {
     "data": {
      "text/plain": [
       "'/Users/fangtbkak/study/VoroTomo_src/Japan_tomo/mkmodels/originaldata/d201410a'"
      ]
     },
     "execution_count": 3,
     "metadata": {},
     "output_type": "execute_result"
    }
   ],
   "source": [
    "files[0]"
   ]
  }
 ],
 "metadata": {
  "kernelspec": {
   "display_name": "Python [conda env:scatter]",
   "language": "python",
   "name": "conda-env-scatter-py"
  },
  "language_info": {
   "codemirror_mode": {
    "name": "ipython",
    "version": 3
   },
   "file_extension": ".py",
   "mimetype": "text/x-python",
   "name": "python",
   "nbconvert_exporter": "python",
   "pygments_lexer": "ipython3",
   "version": "3.7.3"
  }
 },
 "nbformat": 4,
 "nbformat_minor": 4
}
