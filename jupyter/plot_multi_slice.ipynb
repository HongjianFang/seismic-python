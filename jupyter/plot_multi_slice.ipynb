{
 "cells": [
  {
   "cell_type": "markdown",
   "metadata": {},
   "source": [
    "# Install"
   ]
  },
  {
   "cell_type": "code",
   "execution_count": null,
   "metadata": {},
   "outputs": [],
   "source": [
    "# git clone https://github.com/malcolmw/seismic-python.git\n",
    "# cd seismic-python\n",
    "# pip install -e ."
   ]
  },
  {
   "cell_type": "markdown",
   "metadata": {},
   "source": [
    "# Import modules"
   ]
  },
  {
   "cell_type": "code",
   "execution_count": null,
   "metadata": {},
   "outputs": [],
   "source": [
    "%matplotlib ipympl\n",
    "%load_ext autoreload\n",
    "\n",
    "import matplotlib.pyplot as plt\n",
    "import matplotlib.colors\n",
    "from mpl_toolkits.mplot3d import Axes3D\n",
    "import numpy as np\n",
    "import pandas as pd\n",
    "import seispy"
   ]
  },
  {
   "cell_type": "markdown",
   "metadata": {},
   "source": [
    "# Read data"
   ]
  },
  {
   "cell_type": "code",
   "execution_count": null,
   "metadata": {},
   "outputs": [],
   "source": [
    "# Read text file into Pandas.DataFrame\n",
    "df = pd.read_table(\n",
    "    '/Users/malcolmwhite/Downloads/randmeshvp_dws.dat', \n",
    "    header=None, \n",
    "    delim_whitespace=True,\n",
    "    names=['lon', 'lat', 'depth', 'vp', 'vs', '??']\n",
    ")\n",
    "# Update longitude to in [-180, 180]\n",
    "df['lon'] -= 360\n",
    "# Create an empty VelocityModel object\n",
    "vm = seispy.velocity.VelocityModel()\n",
    "# Initialize the VelocityModel object with data from the DataFrame\n",
    "vm.from_DataFrame(df);"
   ]
  },
  {
   "cell_type": "code",
   "execution_count": null,
   "metadata": {},
   "outputs": [],
   "source": [
    "vm.extract_slice?"
   ]
  },
  {
   "cell_type": "markdown",
   "metadata": {},
   "source": [
    "# Plot slices"
   ]
  },
  {
   "cell_type": "code",
   "execution_count": null,
   "metadata": {},
   "outputs": [],
   "source": [
    "norm = matplotlib.colors.Normalize(vmin=3.3, vmax=7.6)\n",
    "cmap = plt.get_cmap('jet_r')\n",
    "\n",
    "plt.close('all')\n",
    "fig = plt.figure()\n",
    "ax = fig.add_subplot(1, 1, 1, projection='3d')\n",
    "for strike in (0, 90):\n",
    "    # Extract a slice with given strike\n",
    "    vslice, ned, geo = vm.extract_slice(strike=strike)\n",
    "    # Convert Geographic coordinates to Cartesian coordinates for plotting on XYZ axes\n",
    "    xyz = geo.to_cartesian()\n",
    "    colors = [[cmap(norm(v)) for v in row] for row in vslice]\n",
    "#     ax.plot_surface(ned[..., 0], ned[..., 1] + shift, ned[..., 2], facecolors=colors)\n",
    "    ax.plot_surface(xyz[..., 0], xyz[..., 1], xyz[..., 2], facecolors=colors)\n",
    "ax.invert_zaxis()"
   ]
  },
  {
   "cell_type": "markdown",
   "metadata": {},
   "source": [
    "# Extract velocity value at arbitrary locations"
   ]
  },
  {
   "cell_type": "code",
   "execution_count": null,
   "metadata": {},
   "outputs": [],
   "source": [
    "geo = seispy.coords.as_geographic([[33.5, -116.5, 0], [34.0, -116.5, 0]])\n",
    "vm('P', geo)"
   ]
  }
 ],
 "metadata": {
  "kernelspec": {
   "display_name": "Python [conda env:py37]",
   "language": "python",
   "name": "conda-env-py37-py"
  },
  "language_info": {
   "codemirror_mode": {
    "name": "ipython",
    "version": 3
   },
   "file_extension": ".py",
   "mimetype": "text/x-python",
   "name": "python",
   "nbconvert_exporter": "python",
   "pygments_lexer": "ipython3",
   "version": "3.7.3"
  }
 },
 "nbformat": 4,
 "nbformat_minor": 2
}
